{
 "cells": [
  {
   "cell_type": "code",
   "execution_count": 4,
   "metadata": {},
   "outputs": [],
   "source": [
    "import threading\n",
    "from time import sleep\n",
    "from queue import Queue\n",
    "\n",
    "# 使用队列管理线程\n",
    "task_queue = Queue()\n",
    "\n",
    "def worker():\n",
    "    while True:\n",
    "        file_paths, callback_url = task_queue.get()\n",
    "        try:\n",
    "            # 模拟文件处理过程\n",
    "            results = {\"status\": \"success\", \"processed_files\": file_paths}\n",
    "            # 将结果发送到callback_url\n",
    "            sleep(4)\n",
    "            print('Succeed processing')\n",
    "            # requests.post(callback_url, json=results)\n",
    "        except Exception as e:\n",
    "            # 处理错误\n",
    "            print(f\"Error processing files: {e}\")\n",
    "        finally:\n",
    "            print(f'Done')\n",
    "            task_queue.task_done()\n",
    "\n",
    "# 启动几个工作线程\n",
    "for _ in range(2):\n",
    "    t = threading.Thread(target=worker)\n",
    "    t.daemon = True\n",
    "    t.start()"
   ]
  },
  {
   "cell_type": "code",
   "execution_count": 5,
   "metadata": {},
   "outputs": [
    {
     "name": "stdout",
     "output_type": "stream",
     "text": [
      "Succeed processing\n",
      "Done\n",
      "Succeed processing\n",
      "Done\n",
      "Succeed processingSucceed processing\n",
      "Done\n",
      "\n",
      "Done\n"
     ]
    }
   ],
   "source": [
    "# 测试代码\n",
    "def test_task_queue():\n",
    "    file_paths_list = [\n",
    "        ([\"file1.txt\", \"file2.txt\"], \"http://example.com/callback1\"),\n",
    "        ([\"file3.txt\", \"file4.txt\"], \"http://example.com/callback2\"),\n",
    "        ([\"file5.txt\", \"file6.txt\"], \"http://example.com/callback3\"),\n",
    "        ([\"file7.txt\", \"file8.txt\"], \"http://example.com/callback4\")\n",
    "    ]\n",
    "\n",
    "    for file_paths, callback_url in file_paths_list:\n",
    "        task_queue.put((file_paths, callback_url))\n",
    "\n",
    "    task_queue.join()  # 等待所有任务完成\n",
    "\n",
    "if __name__ == \"__main__\":\n",
    "    test_task_queue()"
   ]
  }
 ],
 "metadata": {
  "language_info": {
   "name": "python"
  }
 },
 "nbformat": 4,
 "nbformat_minor": 2
}
