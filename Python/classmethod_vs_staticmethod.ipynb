{
 "cells": [
  {
   "cell_type": "markdown",
   "metadata": {},
   "source": [
    "虽然 classmethod 和 staticmethod 非常相似，但这两个实体的用法略有不同： \n",
    "\n",
    "**区别在于：classmethod 的第一个参数必须是对类对象的引用，而 staticmethod 则可以没有任何参数。**"
   ]
  },
  {
   "cell_type": "code",
   "execution_count": 10,
   "metadata": {},
   "outputs": [
    {
     "name": "stdout",
     "output_type": "stream",
     "text": [
      "True\n",
      "<__main__.Date object at 0x7fb7d916d9c0>\n",
      "True\n"
     ]
    }
   ],
   "source": [
    "class Date(object):\n",
    "    \n",
    "    def __init__(self, day=0, month=0, year=0):\n",
    "        self.day = day\n",
    "        self.month = month\n",
    "        self.year = year\n",
    "\n",
    "    @classmethod\n",
    "    def from_string(cls, date_as_string):\n",
    "        day, month, year = map(int, date_as_string.split('-'))\n",
    "        print(cls.is_date_valid(date_as_string))\n",
    "        date1 = cls(day, month, year)\n",
    "        return date1\n",
    "\n",
    "    @staticmethod\n",
    "    def is_date_valid(date_as_string):\n",
    "        day, month, year = map(int, date_as_string.split('-'))\n",
    "        return day <= 31 and month <= 12 and year <= 3999\n",
    "\n",
    "date2 = Date.from_string('11-09-2012')\n",
    "is_date = Date.is_date_valid('11-09-2012')\n",
    "print(date2)\n",
    "print(is_date)"
   ]
  },
  {
   "cell_type": "markdown",
   "metadata": {},
   "source": [
    "我们通过构造函数的例子来进一步来阐述两者的不同\n",
    "在实际中，一般把`@classmethod`构造函数的替代。当使用`@staticmethod`作为类构造函数，它显示的使用了`Date`这个类别，那么当子类集成该方法的时候，也只会使用`Date`构造函数。但如果使用`@classmethod`，`cls`会被传递为子类"
   ]
  },
  {
   "cell_type": "code",
   "execution_count": 5,
   "metadata": {},
   "outputs": [
    {
     "data": {
      "text/plain": [
       "'10-10-2000'"
      ]
     },
     "execution_count": 5,
     "metadata": {},
     "output_type": "execute_result"
    }
   ],
   "source": [
    "class Date:\n",
    "  def __init__(self, month, day, year):\n",
    "    self.month = month\n",
    "    self.day   = day\n",
    "    self.year  = year\n",
    "\n",
    "\n",
    "  def display(self):\n",
    "    return \"{0}-{1}-{2}\".format(self.month, self.day, self.year)\n",
    "\n",
    "\n",
    "  @staticmethod\n",
    "  def millenium(month, day):\n",
    "    return Date(month, day, 2000)\n",
    "\n",
    "new_year = Date(1, 1, 2013)               # Creates a new Date object\n",
    "millenium_new_year = Date.millenium(1, 1) # also creates a Date object. \n",
    "\n",
    "# Proof:\n",
    "new_year.display()           # \"1-1-2013\"\n",
    "millenium_new_year.display() # \"1-1-2000\"\n",
    "\n",
    "isinstance(new_year, Date) # True\n",
    "isinstance(millenium_new_year, Date) # True\n",
    "\n",
    "\n",
    "# Now create subclass of Data: Datatime\n",
    "class DateTime(Date):\n",
    "  def display(self):\n",
    "      return \"{0}-{1}-{2} - 00:00:00PM\".format(self.month, self.day, self.year)\n",
    "\n",
    "\n",
    "datetime1 = DateTime(10, 10, 1990)\n",
    "datetime2 = DateTime.millenium(10, 10)    # actually work code: Date(10, 10, 2000) instead of Datatime(10, 10, 2000).\n",
    "\n",
    "isinstance(datetime1, DateTime) # True\n",
    "isinstance(datetime2, DateTime) # False\n",
    "\n",
    "datetime1.display() # returns \"10-10-1990 - 00:00:00PM\"\n",
    "datetime2.display() # returns \"10-10-2000\" because it's not a DateTime object but a Date object. Check the implementation of the millenium method on the Date class for more details."
   ]
  }
 ],
 "metadata": {
  "language_info": {
   "name": "python"
  }
 },
 "nbformat": 4,
 "nbformat_minor": 2
}
